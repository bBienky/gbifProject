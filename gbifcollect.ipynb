{
 "cells": [
  {
   "cell_type": "markdown",
   "metadata": {
    "id": "DFFOKbAKsZgJ"
   },
   "source": [
    "# INSTALLATION DE DEPENDANCES"
   ]
  },
  {
   "cell_type": "code",
   "execution_count": 27,
   "metadata": {
    "colab": {
     "base_uri": "https://localhost:8080/"
    },
    "id": "-pMZ5tyYsgpO",
    "outputId": "8e2b2038-8572-4687-9c67-b9b67bfbc303"
   },
   "outputs": [
    {
     "name": "stdout",
     "output_type": "stream",
     "text": [
      "Requirement already satisfied: requests in c:\\users\\hp omen\\appdata\\local\\programs\\python\\python39\\lib\\site-packages (2.26.0)\n",
      "Requirement already satisfied: certifi>=2017.4.17 in c:\\users\\hp omen\\appdata\\local\\programs\\python\\python39\\lib\\site-packages (from requests) (2021.5.30)\n",
      "Requirement already satisfied: charset-normalizer~=2.0.0 in c:\\users\\hp omen\\appdata\\local\\programs\\python\\python39\\lib\\site-packages (from requests) (2.0.4)\n",
      "Requirement already satisfied: urllib3<1.27,>=1.21.1 in c:\\users\\hp omen\\appdata\\local\\programs\\python\\python39\\lib\\site-packages (from requests) (1.26.6)\n",
      "Requirement already satisfied: idna<4,>=2.5 in c:\\users\\hp omen\\appdata\\local\\programs\\python\\python39\\lib\\site-packages (from requests) (3.2)\n"
     ]
    },
    {
     "name": "stderr",
     "output_type": "stream",
     "text": [
      "WARNING: You are using pip version 21.1.2; however, version 21.2.4 is available.\n",
      "You should consider upgrading via the 'c:\\users\\hp omen\\appdata\\local\\programs\\python\\python39\\python.exe -m pip install --upgrade pip' command.\n"
     ]
    },
    {
     "name": "stdout",
     "output_type": "stream",
     "text": [
      "Collecting apscheduler\n",
      "  Downloading APScheduler-3.8.0-py2.py3-none-any.whl (59 kB)\n",
      "Requirement already satisfied: setuptools>=0.7 in c:\\users\\hp omen\\appdata\\local\\programs\\python\\python39\\lib\\site-packages (from apscheduler) (56.0.0)\n",
      "Requirement already satisfied: six>=1.4.0 in c:\\users\\hp omen\\appdata\\local\\programs\\python\\python39\\lib\\site-packages (from apscheduler) (1.16.0)\n",
      "Requirement already satisfied: pytz in c:\\users\\hp omen\\appdata\\local\\programs\\python\\python39\\lib\\site-packages (from apscheduler) (2021.1)\n",
      "Collecting tzlocal~=2.0\n",
      "  Downloading tzlocal-2.1-py2.py3-none-any.whl (16 kB)\n",
      "Installing collected packages: tzlocal, apscheduler\n",
      "Successfully installed apscheduler-3.8.0 tzlocal-2.1\n"
     ]
    },
    {
     "name": "stderr",
     "output_type": "stream",
     "text": [
      "WARNING: You are using pip version 21.1.2; however, version 21.2.4 is available.\n",
      "You should consider upgrading via the 'c:\\users\\hp omen\\appdata\\local\\programs\\python\\python39\\python.exe -m pip install --upgrade pip' command.\n"
     ]
    },
    {
     "name": "stdout",
     "output_type": "stream",
     "text": [
      "Requirement already satisfied: pandas in c:\\users\\hp omen\\appdata\\local\\programs\\python\\python39\\lib\\site-packages (1.2.4)\n",
      "Requirement already satisfied: pytz>=2017.3 in c:\\users\\hp omen\\appdata\\local\\programs\\python\\python39\\lib\\site-packages (from pandas) (2021.1)\n",
      "Requirement already satisfied: numpy>=1.16.5 in c:\\users\\hp omen\\appdata\\local\\programs\\python\\python39\\lib\\site-packages (from pandas) (1.20.3)\n",
      "Requirement already satisfied: python-dateutil>=2.7.3 in c:\\users\\hp omen\\appdata\\local\\programs\\python\\python39\\lib\\site-packages (from pandas) (2.8.1)\n",
      "Requirement already satisfied: six>=1.5 in c:\\users\\hp omen\\appdata\\local\\programs\\python\\python39\\lib\\site-packages (from python-dateutil>=2.7.3->pandas) (1.16.0)\n"
     ]
    },
    {
     "name": "stderr",
     "output_type": "stream",
     "text": [
      "WARNING: You are using pip version 21.1.2; however, version 21.2.4 is available.\n",
      "You should consider upgrading via the 'c:\\users\\hp omen\\appdata\\local\\programs\\python\\python39\\python.exe -m pip install --upgrade pip' command.\n"
     ]
    }
   ],
   "source": [
    "!pip install requests\n",
    "!pip install apscheduler\n",
    "!pip install pandas"
   ]
  },
  {
   "cell_type": "markdown",
   "metadata": {
    "id": "rQ3SfVd_tAwz"
   },
   "source": [
    "# IMPORTS NECESSAIRES POUR TRAVAILLER\n"
   ]
  },
  {
   "cell_type": "code",
   "execution_count": 46,
   "metadata": {
    "id": "xiDZfJNbtEjd"
   },
   "outputs": [],
   "source": [
    "import requests\n",
    "import json\n",
    "import pandas as pd\n",
    "from apscheduler.schedulers.blocking import BlockingScheduler\n",
    "import os"
   ]
  },
  {
   "cell_type": "code",
   "execution_count": 7,
   "metadata": {
    "id": "utFlWFCEjWpC"
   },
   "outputs": [],
   "source": [
    "API_KEY = \"4842ad786edd4e3a2dfcc8d1392569911a5cdeceeb76fa150a2048ee83f577a5\""
   ]
  },
  {
   "cell_type": "code",
   "execution_count": 32,
   "metadata": {},
   "outputs": [],
   "source": [
    "species_df = pd.read_excel(\"scientificNames.xlsx\")\n",
    "species_names = list(species_df['Espèce'])"
   ]
  },
  {
   "cell_type": "markdown",
   "metadata": {
    "id": "clVTF0DwtPNm"
   },
   "source": [
    "# REQUEST DATA FUNCTION"
   ]
  },
  {
   "cell_type": "code",
   "execution_count": 17,
   "metadata": {
    "id": "4bOiZIvmtW4r"
   },
   "outputs": [],
   "source": [
    "def request_datas(url,parameters={}):\n",
    "    response = requests.get(url, params=parameters)\n",
    "    try:\n",
    "        if response.status_code == 200:\n",
    "            return response.json()\n",
    "        elif response.status_code == 403:\n",
    "            print(\"Non autorisé\")\n",
    "            return None\n",
    "        else:\n",
    "            return None\n",
    "    except ConnectionError:\n",
    "        print(\"connection error retry later\")\n",
    "\n",
    "def jprint(obj):\n",
    "    text = json.dumps(obj, sort_keys=True, indent=4)\n",
    "    print(text)"
   ]
  },
  {
   "cell_type": "markdown",
   "metadata": {
    "id": "IV-otfAju5EC"
   },
   "source": [
    "# API CALLS TO GET DATAS"
   ]
  },
  {
   "cell_type": "code",
   "execution_count": 18,
   "metadata": {
    "colab": {
     "base_uri": "https://localhost:8080/"
    },
    "id": "m7UVSf8Ru4hO",
    "outputId": "95e3d8b7-4e82-46fd-ffb9-2bed2617d140"
   },
   "outputs": [
    {
     "name": "stdout",
     "output_type": "stream",
     "text": [
      "{'userId': 1, 'id': 1, 'title': 'delectus aut autem', 'completed': False}\n"
     ]
    }
   ],
   "source": [
    "print(request_datas('https://jsonplaceholder.typicode.com/todos/1'))"
   ]
  },
  {
   "cell_type": "markdown",
   "metadata": {
    "id": "4OQM9RUw2lXh"
   },
   "source": [
    "## GOOGLE SCHOLAR"
   ]
  },
  {
   "cell_type": "code",
   "execution_count": 19,
   "metadata": {
    "colab": {
     "base_uri": "https://localhost:8080/"
    },
    "id": "nYxP1l6B2uw2",
    "outputId": "a98fcb0f-686b-4bce-acdd-14aedf114879"
   },
   "outputs": [
    {
     "name": "stdout",
     "output_type": "stream",
     "text": [
      "null\n"
     ]
    }
   ],
   "source": [
    "# Test request\n",
    "scholar_google= None\n",
    "scholar_google = request_datas(\"https://serpapi.com/search.json\",{\"engine\":\"google_scholar\", \"q\":\"plants,Cameroon,articles, Bulbophyllum Thouars\",\"api_key\":API_KEY})\n",
    "jprint(scholar_google)\n",
    "# If you see null as result that means that API_Key has expired"
   ]
  },
  {
   "cell_type": "markdown",
   "metadata": {
    "id": "SqCSq0fIC2OY"
   },
   "source": [
    "### TRAITEMENT DES DATAS POUR SCHOLAR"
   ]
  },
  {
   "cell_type": "code",
   "execution_count": 20,
   "metadata": {
    "colab": {
     "base_uri": "https://localhost:8080/",
     "height": 69
    },
    "id": "LMSpC8N2DCCP",
    "outputId": "f2f3fe75-961e-40ec-f7d1-32f6fb8cab0d"
   },
   "outputs": [
    {
     "data": {
      "text/plain": [
       "'\\nla structure des données qui nous intresse: \\n\"organic_results\" : [\\n  {\\n            \"link\": \\n            \"position\": 0,\\n            \"publication_info\": {\\n                \"summary\": \\n            },\\n            \"snippet\": \\n            \"title\": \\n        },\\n]\\n\"related_searches\" : [{\"link\",\"query\"}]\\n\\n\"serpapi_pagination\" : {\\n  \"current\":\\n  \"next\":\\n  \"other_pages\"\\n}\\n'"
      ]
     },
     "execution_count": 20,
     "metadata": {},
     "output_type": "execute_result"
    }
   ],
   "source": [
    "'''\n",
    "la structure des données qui nous intresse: \n",
    "\"organic_results\" : [\n",
    "  {\n",
    "            \"link\": \n",
    "            \"position\": 0,\n",
    "            \"publication_info\": {\n",
    "                \"summary\": \n",
    "            },\n",
    "            \"snippet\": \n",
    "            \"title\": \n",
    "        },\n",
    "]\n",
    "\"related_searches\" : [{\"link\",\"query\"}]\n",
    "\n",
    "\"serpapi_pagination\" : {\n",
    "  \"current\":\n",
    "  \"next\":\n",
    "  \"other_pages\"\n",
    "}\n",
    "'''"
   ]
  },
  {
   "cell_type": "code",
   "execution_count": 24,
   "metadata": {
    "id": "WcrqcRy0GDdo"
   },
   "outputs": [],
   "source": [
    "def search_scholar(plant : str):\n",
    "    \"\"\"This function returns a list of json corresponding to request search results\n",
    "        args : plant_name[str]\n",
    "    \"\"\"\n",
    "    results = None\n",
    "    results_data = []\n",
    "    results = request_datas(\"https://serpapi.com/search.json\",{\"engine\":\"google_scholar\", \"q\": plant ,\"api_key\":API_KEY})\n",
    "    if (results is not None ) :\n",
    "        if len(results.keys())>0 : \n",
    "            if (\"error\" not in results.keys()) :\n",
    "                while (results is not None) :\n",
    "                    if \"organic_results\" in results.keys() :\n",
    "                        results_data.append(results[\"organic_results\"])\n",
    "                    if (\"serpapi_pagination\" in results.keys()) :\n",
    "                        if ('next' in results[\"serpapi_pagination\"].keys()):\n",
    "                            results = request_datas(results[\"serpapi_pagination\"][\"next\"],{\"api_key\":API_KEY})\n",
    "                        else :\n",
    "                            break\n",
    "                    else :\n",
    "                        break\n",
    "    return results_data"
   ]
  },
  {
   "cell_type": "code",
   "execution_count": 35,
   "metadata": {
    "id": "gnVD4Fi_MjBv"
   },
   "outputs": [],
   "source": [
    "def searchLine(listOfNames) :\n",
    "    \"\"\"This function return in a dataFrame all the request results for a part of plant names present in listofNames\"\"\"\n",
    "    n = len(listOfNames)\n",
    "    df =  None\n",
    "    plantnames = []\n",
    "    articledescr = []\n",
    "    articletitle = []  \n",
    "    articlelink = []\n",
    "    for k in range(n) :\n",
    "        name = listOfNames[k]\n",
    "        search = search_scholar(name)\n",
    "        if len(search)>0 :\n",
    "            for s in search:\n",
    "                for elem in s :\n",
    "                    if (elem is not None) & ('snippet' in elem.keys()) :\n",
    "                        plantnames.append(name)\n",
    "                        articledescr.append(elem[\"snippet\"])\n",
    "                        articletitle.append(elem[\"title\"])\n",
    "                        articlelink.append(elem[\"link\"])\n",
    "        else :\n",
    "            break\n",
    "    df = pd.DataFrame({\"plant name\" : plantnames, \"article title\" : articletitle, \"article description\":articledescr, \"link\" : articlelink})\n",
    "    return df \n"
   ]
  },
  {
   "cell_type": "code",
   "execution_count": 50,
   "metadata": {
    "colab": {
     "base_uri": "https://localhost:8080/",
     "height": 340
    },
    "id": "GUnfYBdg2p2P",
    "outputId": "69190c2f-51ce-4911-d0d8-a56f2997cf33"
   },
   "outputs": [],
   "source": [
    "counter = 827\n",
    "file_counter = 1\n",
    "def continuous_search() :\n",
    "    global counter\n",
    "    if counter < len(species_names) :\n",
    "        species_search_list = species_names[counter : ]\n",
    "        gbif_df = searchLine(species_search_list)\n",
    "        if gbif_df is not None :\n",
    "            global file_counter\n",
    "            gbif_df.to_excel(\"gbif\"+str(file_counter)+\".xlsx\") \n",
    "            file_counter += 1\n",
    "            counter += len(gbif_df)\n",
    "            print(counter)"
   ]
  },
  {
   "cell_type": "code",
   "execution_count": null,
   "metadata": {
    "id": "iTKnJ3AyjQoG",
    "scrolled": true
   },
   "outputs": [],
   "source": [
    "if __name__ == '__main__':\n",
    "    scheduler = BlockingScheduler()\n",
    "    scheduler.add_job(continuous_search, 'interval', hours = 1.15)\n",
    "    print('Press Ctrl+{0} to exit'.format('Break' if os.name == 'nt' else 'C'))\n",
    "    try:\n",
    "        scheduler.start()\n",
    "    except (KeyboardInterrupt, SystemExit):\n",
    "        pass"
   ]
  },
  {
   "cell_type": "code",
   "execution_count": null,
   "metadata": {
    "id": "bW6Wv_DgVPSX"
   },
   "outputs": [],
   "source": []
  },
  {
   "cell_type": "code",
   "execution_count": null,
   "metadata": {
    "colab": {
     "base_uri": "https://localhost:8080/"
    },
    "id": "YSS3MimEWqQd",
    "outputId": "e41a1a54-8768-41f9-e57c-578bb648ba73"
   },
   "outputs": [],
   "source": []
  }
 ],
 "metadata": {
  "colab": {
   "collapsed_sections": [],
   "name": "projetGBIF.ipynb",
   "provenance": []
  },
  "kernelspec": {
   "display_name": "Python 3",
   "language": "python",
   "name": "python3"
  },
  "language_info": {
   "codemirror_mode": {
    "name": "ipython",
    "version": 3
   },
   "file_extension": ".py",
   "mimetype": "text/x-python",
   "name": "python",
   "nbconvert_exporter": "python",
   "pygments_lexer": "ipython3",
   "version": "3.9.5"
  }
 },
 "nbformat": 4,
 "nbformat_minor": 1
}
