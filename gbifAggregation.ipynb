{
 "cells": [
  {
   "cell_type": "code",
   "execution_count": 1,
   "id": "9b6ca572",
   "metadata": {},
   "outputs": [],
   "source": [
    "import pandas as pd\n",
    "import glob\n",
    "import numpy as np"
   ]
  },
  {
   "cell_type": "code",
   "execution_count": 2,
   "id": "572c22f6",
   "metadata": {},
   "outputs": [],
   "source": [
    "files = glob.glob('*.xlsx')"
   ]
  },
  {
   "cell_type": "code",
   "execution_count": 3,
   "id": "5db02414",
   "metadata": {},
   "outputs": [],
   "source": [
    "df =  pd.read_excel(files[0])\n",
    "for k in range(1, len(files)):\n",
    "    df = df.append(pd.read_excel(files[k]))"
   ]
  },
  {
   "cell_type": "code",
   "execution_count": 4,
   "id": "0ccb6ecb",
   "metadata": {},
   "outputs": [],
   "source": [
    "df = df.drop('Unnamed: 0', axis = 1)"
   ]
  },
  {
   "cell_type": "code",
   "execution_count": 5,
   "id": "78bd8b27",
   "metadata": {},
   "outputs": [],
   "source": [
    "df[\"occ\"] = np.ones(len(df))"
   ]
  },
  {
   "cell_type": "code",
   "execution_count": 9,
   "id": "167f865e",
   "metadata": {},
   "outputs": [],
   "source": [
    "df2 = df.groupby(\"plant name\").agg(lambda x : list(x))"
   ]
  },
  {
   "cell_type": "code",
   "execution_count": 16,
   "id": "171a7017",
   "metadata": {},
   "outputs": [],
   "source": [
    "df2['occ'] = df2['occ'].apply(lambda x : np.sum(x))"
   ]
  },
  {
   "cell_type": "code",
   "execution_count": 17,
   "id": "0f9c9543",
   "metadata": {},
   "outputs": [],
   "source": [
    "df2 = df2.sort_values(by = 'occ', ascending = True)"
   ]
  },
  {
   "cell_type": "code",
   "execution_count": null,
   "id": "4df7da4d",
   "metadata": {},
   "outputs": [],
   "source": [
    "df2.to_excel(\"gbifSorted.xlsx\")"
   ]
  },
  {
   "cell_type": "code",
   "execution_count": 19,
   "id": "f6b1ef21",
   "metadata": {},
   "outputs": [],
   "source": []
  },
  {
   "cell_type": "code",
   "execution_count": null,
   "id": "554e8bbb",
   "metadata": {},
   "outputs": [],
   "source": []
  }
 ],
 "metadata": {
  "kernelspec": {
   "display_name": "Python 3",
   "language": "python",
   "name": "python3"
  },
  "language_info": {
   "codemirror_mode": {
    "name": "ipython",
    "version": 3
   },
   "file_extension": ".py",
   "mimetype": "text/x-python",
   "name": "python",
   "nbconvert_exporter": "python",
   "pygments_lexer": "ipython3",
   "version": "3.9.5"
  }
 },
 "nbformat": 4,
 "nbformat_minor": 5
}
